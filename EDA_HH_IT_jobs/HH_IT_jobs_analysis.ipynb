{
 "cells": [
  {
   "cell_type": "markdown",
   "metadata": {},
   "source": [
    "<center style=\"font-size: 26px\"> <b>Задания Python</b></center>"
   ]
  },
  {
   "cell_type": "code",
   "execution_count": 14,
   "metadata": {},
   "outputs": [],
   "source": [
    "# обеспечиваем совместимость с Python 2 и 3\n",
    "from __future__ import (absolute_import, division, print_function, unicode_literals)\n",
    "\n",
    "# отключаем предупреждения дистрибутива Anaconda\n",
    "import warnings\n",
    "warnings.simplefilter('ignore')\n",
    "\n",
    "import pandas as pd\n",
    "import requests\n",
    "from datetime import datetime\n",
    "import matplotlib.pyplot as plt"
   ]
  },
  {
   "cell_type": "markdown",
   "metadata": {},
   "source": [
    "**Описание датасета:**   \n",
    "[Датасет вакансий с платформы HH.ru на Kaggle.com](https://www.kaggle.com/datasets/pavfedotov/heaadhunter-vacancies?resource=download&select=df2021-08-03.csv) \n",
    "\n",
    "Нужный файл - df2021-08-03.csv.\n",
    "\n",
    "- *vacancy* - наименование вакансии\n",
    "- *url* - ссылка на вакансию\n",
    "- *created* - дата и время создания\n",
    "- *has_test* - наличие тестового задания в вакансии\n",
    "- *salary_from* - нижняя граница значения заработной платы\n",
    "- *salary_to* - верхняя граница значения заработной платы\n",
    "- *currency* - валюта заработной платы\n",
    "- *experience* - требуемый опыт\n",
    "- *schedule* - тип рабочего графика\n",
    "- *skills* - требуемые навыки\n",
    "- *employer* - наименование работодателя\n",
    "- *area* - наименование города\n",
    "- *description* - описание вакансии"
   ]
  },
  {
   "cell_type": "markdown",
   "metadata": {},
   "source": [
    "#### Загрузите датасет"
   ]
  },
  {
   "cell_type": "code",
   "execution_count": 139,
   "metadata": {},
   "outputs": [
    {
     "data": {
      "text/html": [
       "<div>\n",
       "<style scoped>\n",
       "    .dataframe tbody tr th:only-of-type {\n",
       "        vertical-align: middle;\n",
       "    }\n",
       "\n",
       "    .dataframe tbody tr th {\n",
       "        vertical-align: top;\n",
       "    }\n",
       "\n",
       "    .dataframe thead th {\n",
       "        text-align: right;\n",
       "    }\n",
       "</style>\n",
       "<table border=\"1\" class=\"dataframe\">\n",
       "  <thead>\n",
       "    <tr style=\"text-align: right;\">\n",
       "      <th></th>\n",
       "      <th>vacancy</th>\n",
       "      <th>url</th>\n",
       "      <th>created</th>\n",
       "      <th>has_test</th>\n",
       "      <th>salary_from</th>\n",
       "      <th>salary_to</th>\n",
       "      <th>currency</th>\n",
       "      <th>experience</th>\n",
       "      <th>schedule</th>\n",
       "      <th>skills</th>\n",
       "      <th>employer</th>\n",
       "      <th>area</th>\n",
       "      <th>description</th>\n",
       "    </tr>\n",
       "  </thead>\n",
       "  <tbody>\n",
       "    <tr>\n",
       "      <th>0</th>\n",
       "      <td>Backend/Full-stack developer (python)</td>\n",
       "      <td>https://hh.ru/applicant/vacancy_response?vacan...</td>\n",
       "      <td>2021-08-01T13:02:48+0300</td>\n",
       "      <td>False</td>\n",
       "      <td>120000.0</td>\n",
       "      <td>NaN</td>\n",
       "      <td>RUR</td>\n",
       "      <td>От 1 года до 3 лет</td>\n",
       "      <td>Гибкий график</td>\n",
       "      <td>Python;PostgreSQL;Linux;Flask;</td>\n",
       "      <td>ATI.SU</td>\n",
       "      <td>Санкт-Петербург</td>\n",
       "      <td>Привет! Мы ATI.SU ― крупнейшая в России компан...</td>\n",
       "    </tr>\n",
       "    <tr>\n",
       "      <th>1</th>\n",
       "      <td>Бэкенд-разработчик (Python) / Middle Python / ...</td>\n",
       "      <td>https://hh.ru/applicant/vacancy_response?vacan...</td>\n",
       "      <td>2021-07-09T08:13:01+0300</td>\n",
       "      <td>False</td>\n",
       "      <td>150000.0</td>\n",
       "      <td>220000.0</td>\n",
       "      <td>RUR</td>\n",
       "      <td>От 3 до 6 лет</td>\n",
       "      <td>Удаленная работа</td>\n",
       "      <td>Python;Git;MongoDB;Redis;Design Patterns;Flask;</td>\n",
       "      <td>ЮТэйр, Авиакомпания</td>\n",
       "      <td>Киров (Кировская область)</td>\n",
       "      <td>Utair - российская авиакомпания. Мы летаем по ...</td>\n",
       "    </tr>\n",
       "    <tr>\n",
       "      <th>2</th>\n",
       "      <td>Fullstack Middle Python (Django) / VueJS Dev</td>\n",
       "      <td>https://hh.ru/applicant/vacancy_response?vacan...</td>\n",
       "      <td>2021-07-21T15:24:16+0300</td>\n",
       "      <td>False</td>\n",
       "      <td>NaN</td>\n",
       "      <td>NaN</td>\n",
       "      <td>NaN</td>\n",
       "      <td>От 1 года до 3 лет</td>\n",
       "      <td>Полный день</td>\n",
       "      <td>Python;Git;Django Framework;PostgreSQL;Linux;V...</td>\n",
       "      <td>КРОК</td>\n",
       "      <td>Москва</td>\n",
       "      <td>В команду, которая занимается разработкой инст...</td>\n",
       "    </tr>\n",
       "    <tr>\n",
       "      <th>3</th>\n",
       "      <td>Python Developer</td>\n",
       "      <td>https://hh.ru/applicant/vacancy_response?vacan...</td>\n",
       "      <td>2021-07-28T12:57:57+0300</td>\n",
       "      <td>False</td>\n",
       "      <td>NaN</td>\n",
       "      <td>NaN</td>\n",
       "      <td>NaN</td>\n",
       "      <td>От 3 до 6 лет</td>\n",
       "      <td>Удаленная работа</td>\n",
       "      <td>Python;Django Framework;CSS;</td>\n",
       "      <td>Mad Devs</td>\n",
       "      <td>Краснодар</td>\n",
       "      <td>Mad Devs - full stack команда для разработки и...</td>\n",
       "    </tr>\n",
       "    <tr>\n",
       "      <th>4</th>\n",
       "      <td>QA Automation (Python)</td>\n",
       "      <td>https://hh.ru/applicant/vacancy_response?vacan...</td>\n",
       "      <td>2021-07-31T17:10:49+0300</td>\n",
       "      <td>False</td>\n",
       "      <td>NaN</td>\n",
       "      <td>NaN</td>\n",
       "      <td>NaN</td>\n",
       "      <td>От 1 года до 3 лет</td>\n",
       "      <td>Удаленная работа</td>\n",
       "      <td>Python;Pytest;Ansible;Selenium;</td>\n",
       "      <td>Аренадата Софтвер</td>\n",
       "      <td>Москва</td>\n",
       "      <td>Arenadata — динамично развивающаяся компания, ...</td>\n",
       "    </tr>\n",
       "  </tbody>\n",
       "</table>\n",
       "</div>"
      ],
      "text/plain": [
       "                                             vacancy  \\\n",
       "0              Backend/Full-stack developer (python)   \n",
       "1  Бэкенд-разработчик (Python) / Middle Python / ...   \n",
       "2       Fullstack Middle Python (Django) / VueJS Dev   \n",
       "3                                   Python Developer   \n",
       "4                             QA Automation (Python)   \n",
       "\n",
       "                                                 url  \\\n",
       "0  https://hh.ru/applicant/vacancy_response?vacan...   \n",
       "1  https://hh.ru/applicant/vacancy_response?vacan...   \n",
       "2  https://hh.ru/applicant/vacancy_response?vacan...   \n",
       "3  https://hh.ru/applicant/vacancy_response?vacan...   \n",
       "4  https://hh.ru/applicant/vacancy_response?vacan...   \n",
       "\n",
       "                    created  has_test  salary_from  salary_to currency  \\\n",
       "0  2021-08-01T13:02:48+0300     False     120000.0        NaN      RUR   \n",
       "1  2021-07-09T08:13:01+0300     False     150000.0   220000.0      RUR   \n",
       "2  2021-07-21T15:24:16+0300     False          NaN        NaN      NaN   \n",
       "3  2021-07-28T12:57:57+0300     False          NaN        NaN      NaN   \n",
       "4  2021-07-31T17:10:49+0300     False          NaN        NaN      NaN   \n",
       "\n",
       "           experience          schedule  \\\n",
       "0  От 1 года до 3 лет     Гибкий график   \n",
       "1       От 3 до 6 лет  Удаленная работа   \n",
       "2  От 1 года до 3 лет       Полный день   \n",
       "3       От 3 до 6 лет  Удаленная работа   \n",
       "4  От 1 года до 3 лет  Удаленная работа   \n",
       "\n",
       "                                              skills             employer  \\\n",
       "0                     Python;PostgreSQL;Linux;Flask;               ATI.SU   \n",
       "1    Python;Git;MongoDB;Redis;Design Patterns;Flask;  ЮТэйр, Авиакомпания   \n",
       "2  Python;Git;Django Framework;PostgreSQL;Linux;V...                 КРОК   \n",
       "3                       Python;Django Framework;CSS;             Mad Devs   \n",
       "4                    Python;Pytest;Ansible;Selenium;    Аренадата Софтвер   \n",
       "\n",
       "                        area  \\\n",
       "0            Санкт-Петербург   \n",
       "1  Киров (Кировская область)   \n",
       "2                     Москва   \n",
       "3                  Краснодар   \n",
       "4                     Москва   \n",
       "\n",
       "                                         description  \n",
       "0  Привет! Мы ATI.SU ― крупнейшая в России компан...  \n",
       "1  Utair - российская авиакомпания. Мы летаем по ...  \n",
       "2  В команду, которая занимается разработкой инст...  \n",
       "3  Mad Devs - full stack команда для разработки и...  \n",
       "4  Arenadata — динамично развивающаяся компания, ...  "
      ]
     },
     "execution_count": 139,
     "metadata": {},
     "output_type": "execute_result"
    }
   ],
   "source": [
    "df = pd.read_csv('df2021-08-03.csv')\n",
    "df.head()"
   ]
  },
  {
   "cell_type": "markdown",
   "metadata": {},
   "source": [
    "### Практические задания:"
   ]
  },
  {
   "cell_type": "markdown",
   "metadata": {},
   "source": [
    "#### 1. Изучите методы для сбора данных курсов валют в [API Центрального банка Российской Федерации](https://www.cbr.ru/development/SXML/) . Используя запросы к API, приведите значения заработной платы к рублям одним из вариантов:  на текущую дату  либо на дату создания (created)."
   ]
  },
  {
   "cell_type": "code",
   "execution_count": 190,
   "metadata": {
    "scrolled": true
   },
   "outputs": [
    {
     "data": {
      "text/html": [
       "<div>\n",
       "<style scoped>\n",
       "    .dataframe tbody tr th:only-of-type {\n",
       "        vertical-align: middle;\n",
       "    }\n",
       "\n",
       "    .dataframe tbody tr th {\n",
       "        vertical-align: top;\n",
       "    }\n",
       "\n",
       "    .dataframe thead th {\n",
       "        text-align: right;\n",
       "    }\n",
       "</style>\n",
       "<table border=\"1\" class=\"dataframe\">\n",
       "  <thead>\n",
       "    <tr style=\"text-align: right;\">\n",
       "      <th></th>\n",
       "      <th>vacancy</th>\n",
       "      <th>url</th>\n",
       "      <th>created</th>\n",
       "      <th>has_test</th>\n",
       "      <th>salary_from</th>\n",
       "      <th>salary_to</th>\n",
       "      <th>currency</th>\n",
       "      <th>experience</th>\n",
       "      <th>schedule</th>\n",
       "      <th>skills</th>\n",
       "      <th>employer</th>\n",
       "      <th>area</th>\n",
       "      <th>description</th>\n",
       "      <th>salary</th>\n",
       "    </tr>\n",
       "  </thead>\n",
       "  <tbody>\n",
       "    <tr>\n",
       "      <th>0</th>\n",
       "      <td>Backend/Full-stack developer (python)</td>\n",
       "      <td>https://hh.ru/applicant/vacancy_response?vacan...</td>\n",
       "      <td>2021-08-01 13:02:48+03:00</td>\n",
       "      <td>False</td>\n",
       "      <td>120000.0</td>\n",
       "      <td>NaN</td>\n",
       "      <td>RUR</td>\n",
       "      <td>От 1 года до 3 лет</td>\n",
       "      <td>Гибкий график</td>\n",
       "      <td>Python;PostgreSQL;Linux;Flask;</td>\n",
       "      <td>ATI.SU</td>\n",
       "      <td>Санкт-Петербург</td>\n",
       "      <td>Привет! Мы ATI.SU ― крупнейшая в России компан...</td>\n",
       "      <td>120000.0</td>\n",
       "    </tr>\n",
       "    <tr>\n",
       "      <th>1</th>\n",
       "      <td>Бэкенд-разработчик (Python) / Middle Python / ...</td>\n",
       "      <td>https://hh.ru/applicant/vacancy_response?vacan...</td>\n",
       "      <td>2021-07-09 08:13:01+03:00</td>\n",
       "      <td>False</td>\n",
       "      <td>150000.0</td>\n",
       "      <td>220000.0</td>\n",
       "      <td>RUR</td>\n",
       "      <td>От 3 до 6 лет</td>\n",
       "      <td>Удаленная работа</td>\n",
       "      <td>Python;Git;MongoDB;Redis;Design Patterns;Flask;</td>\n",
       "      <td>ЮТэйр, Авиакомпания</td>\n",
       "      <td>Киров (Кировская область)</td>\n",
       "      <td>Utair - российская авиакомпания. Мы летаем по ...</td>\n",
       "      <td>185000.0</td>\n",
       "    </tr>\n",
       "    <tr>\n",
       "      <th>2</th>\n",
       "      <td>Fullstack Middle Python (Django) / VueJS Dev</td>\n",
       "      <td>https://hh.ru/applicant/vacancy_response?vacan...</td>\n",
       "      <td>2021-07-21 15:24:16+03:00</td>\n",
       "      <td>False</td>\n",
       "      <td>NaN</td>\n",
       "      <td>NaN</td>\n",
       "      <td>NaN</td>\n",
       "      <td>От 1 года до 3 лет</td>\n",
       "      <td>Полный день</td>\n",
       "      <td>Python;Git;Django Framework;PostgreSQL;Linux;V...</td>\n",
       "      <td>КРОК</td>\n",
       "      <td>Москва</td>\n",
       "      <td>В команду, которая занимается разработкой инст...</td>\n",
       "      <td>NaN</td>\n",
       "    </tr>\n",
       "    <tr>\n",
       "      <th>3</th>\n",
       "      <td>Python Developer</td>\n",
       "      <td>https://hh.ru/applicant/vacancy_response?vacan...</td>\n",
       "      <td>2021-07-28 12:57:57+03:00</td>\n",
       "      <td>False</td>\n",
       "      <td>NaN</td>\n",
       "      <td>NaN</td>\n",
       "      <td>NaN</td>\n",
       "      <td>От 3 до 6 лет</td>\n",
       "      <td>Удаленная работа</td>\n",
       "      <td>Python;Django Framework;CSS;</td>\n",
       "      <td>Mad Devs</td>\n",
       "      <td>Краснодар</td>\n",
       "      <td>Mad Devs - full stack команда для разработки и...</td>\n",
       "      <td>NaN</td>\n",
       "    </tr>\n",
       "    <tr>\n",
       "      <th>4</th>\n",
       "      <td>QA Automation (Python)</td>\n",
       "      <td>https://hh.ru/applicant/vacancy_response?vacan...</td>\n",
       "      <td>2021-07-31 17:10:49+03:00</td>\n",
       "      <td>False</td>\n",
       "      <td>NaN</td>\n",
       "      <td>NaN</td>\n",
       "      <td>NaN</td>\n",
       "      <td>От 1 года до 3 лет</td>\n",
       "      <td>Удаленная работа</td>\n",
       "      <td>Python;Pytest;Ansible;Selenium;</td>\n",
       "      <td>Аренадата Софтвер</td>\n",
       "      <td>Москва</td>\n",
       "      <td>Arenadata — динамично развивающаяся компания, ...</td>\n",
       "      <td>NaN</td>\n",
       "    </tr>\n",
       "  </tbody>\n",
       "</table>\n",
       "</div>"
      ],
      "text/plain": [
       "                                             vacancy  \\\n",
       "0              Backend/Full-stack developer (python)   \n",
       "1  Бэкенд-разработчик (Python) / Middle Python / ...   \n",
       "2       Fullstack Middle Python (Django) / VueJS Dev   \n",
       "3                                   Python Developer   \n",
       "4                             QA Automation (Python)   \n",
       "\n",
       "                                                 url  \\\n",
       "0  https://hh.ru/applicant/vacancy_response?vacan...   \n",
       "1  https://hh.ru/applicant/vacancy_response?vacan...   \n",
       "2  https://hh.ru/applicant/vacancy_response?vacan...   \n",
       "3  https://hh.ru/applicant/vacancy_response?vacan...   \n",
       "4  https://hh.ru/applicant/vacancy_response?vacan...   \n",
       "\n",
       "                    created  has_test  salary_from  salary_to currency  \\\n",
       "0 2021-08-01 13:02:48+03:00     False     120000.0        NaN      RUR   \n",
       "1 2021-07-09 08:13:01+03:00     False     150000.0   220000.0      RUR   \n",
       "2 2021-07-21 15:24:16+03:00     False          NaN        NaN      NaN   \n",
       "3 2021-07-28 12:57:57+03:00     False          NaN        NaN      NaN   \n",
       "4 2021-07-31 17:10:49+03:00     False          NaN        NaN      NaN   \n",
       "\n",
       "           experience          schedule  \\\n",
       "0  От 1 года до 3 лет     Гибкий график   \n",
       "1       От 3 до 6 лет  Удаленная работа   \n",
       "2  От 1 года до 3 лет       Полный день   \n",
       "3       От 3 до 6 лет  Удаленная работа   \n",
       "4  От 1 года до 3 лет  Удаленная работа   \n",
       "\n",
       "                                              skills             employer  \\\n",
       "0                     Python;PostgreSQL;Linux;Flask;               ATI.SU   \n",
       "1    Python;Git;MongoDB;Redis;Design Patterns;Flask;  ЮТэйр, Авиакомпания   \n",
       "2  Python;Git;Django Framework;PostgreSQL;Linux;V...                 КРОК   \n",
       "3                       Python;Django Framework;CSS;             Mad Devs   \n",
       "4                    Python;Pytest;Ansible;Selenium;    Аренадата Софтвер   \n",
       "\n",
       "                        area  \\\n",
       "0            Санкт-Петербург   \n",
       "1  Киров (Кировская область)   \n",
       "2                     Москва   \n",
       "3                  Краснодар   \n",
       "4                     Москва   \n",
       "\n",
       "                                         description    salary  \n",
       "0  Привет! Мы ATI.SU ― крупнейшая в России компан...  120000.0  \n",
       "1  Utair - российская авиакомпания. Мы летаем по ...  185000.0  \n",
       "2  В команду, которая занимается разработкой инст...       NaN  \n",
       "3  Mad Devs - full stack команда для разработки и...       NaN  \n",
       "4  Arenadata — динамично развивающаяся компания, ...       NaN  "
      ]
     },
     "execution_count": 190,
     "metadata": {},
     "output_type": "execute_result"
    }
   ],
   "source": [
    "# URL для запроса к API Центробанка (на момент запроса)\n",
    "url = 'https://www.cbr.ru/scripts/XML_daily.asp'\n",
    "\n",
    "#(1 вариант)\n",
    "# Получение курса рубля на дату запроса \n",
    "response = requests.get(url)\n",
    "xml = response.content.decode('windows-1251')\n",
    "usd = float(xml.split('<Value>')[14].split('</Value>')[0].replace(',', '.'))\n",
    "eur = float(xml.split('<Value>')[15].split('</Value>')[0].replace(',', '.'))\n",
    "\n",
    "# помимо рублей в таблице присутвуют доллары и евро, расчитаем заработную плату для каждой валюты\n",
    "def convert_salary(row):\n",
    "    if row['currency'] == 'USD':\n",
    "        row['salary_from'] *= usd\n",
    "        row['salary_to'] *= usd\n",
    "    elif row['currency'] == 'EUR':\n",
    "        row['salary_from'] *= eur\n",
    "        row['salary_to'] *= eur\n",
    "    return row\n",
    "\n",
    "df = df.apply(convert_salary, axis=1)\n",
    "df.head()\n"
   ]
  },
  {
   "cell_type": "markdown",
   "metadata": {},
   "source": [
    "#### 2. Найдите вакансию с самой высокой заработной платой, где подойдет 4 года опыта работы и не нужно проходить тестовое задание."
   ]
  },
  {
   "cell_type": "code",
   "execution_count": 166,
   "metadata": {},
   "outputs": [
    {
     "name": "stdout",
     "output_type": "stream",
     "text": [
      "                                                           565\n",
      "vacancy              Senior C++/Python Developer (Yellow Team)\n",
      "url          https://hh.ru/applicant/vacancy_response?vacan...\n",
      "created                              2021-07-29 19:01:14+03:00\n",
      "has_test                                                 False\n",
      "salary_from                                             350000\n",
      "salary_to                                                  NaN\n",
      "currency                                                   RUR\n",
      "experience                                       От 3 до 6 лет\n",
      "schedule                                           Полный день\n",
      "skills                                                     NaN\n",
      "employer                                               Semrush\n",
      "area                                           Санкт-Петербург\n",
      "description  Semrush – продуктовая IT-компания. С 2008 года...\n",
      "salary                                                  350000\n",
      "                                                           140\n",
      "vacancy                   Full-stack Разработчик React, Python\n",
      "url          https://hh.ru/applicant/vacancy_response?vacan...\n",
      "created                              2021-08-01 03:53:23+03:00\n",
      "has_test                                                 False\n",
      "salary_from                                             200000\n",
      "salary_to                                               500000\n",
      "currency                                                   RUR\n",
      "experience                                       От 3 до 6 лет\n",
      "schedule                                      Удаленная работа\n",
      "skills                                           React;Python;\n",
      "employer                                              MINT NFT\n",
      "area                                               Владивосток\n",
      "description  MINT NFT, Inc. - компания занимается разработк...\n",
      "salary                                                  350000\n"
     ]
    }
   ],
   "source": [
    "# посмотрим на требования к опыту\n",
    "unique_values = df['experience'].unique()\n",
    "# 'От 1 года до 3 лет', 'От 3 до 6 лет', 'Нет опыта', 'Более 6 лет' - нам подходит только 2й вариант\n",
    "\n",
    "# фильтрация вакансий по условиям \n",
    "filtered_df = df[(df['experience'] == 'От 3 до 6 лет') & (df['has_test'] == False)]\n",
    "\n",
    "# Ищем вакансию с самой большой начальной з/п\n",
    "max_salary_vacancy_f = filtered_df.loc[filtered_df['salary_from'].idxmax()].to_frame()\n",
    "print(max_salary_vacancy_f)\n",
    "\n",
    "# Ищем вакансию с самой большим потолком з/п\n",
    "max_salary_vacancy_t = filtered_df.loc[filtered_df['salary_to'].idxmax()].to_frame()\n",
    "print(max_salary_vacancy_t)\n"
   ]
  },
  {
   "cell_type": "markdown",
   "metadata": {},
   "source": [
    "#### 3. Сделайте рейтинг (топ-30) навыков по всем вакансиям."
   ]
  },
  {
   "cell_type": "code",
   "execution_count": 130,
   "metadata": {
    "scrolled": true
   },
   "outputs": [
    {
     "name": "stdout",
     "output_type": "stream",
     "text": [
      "Python 1442\n",
      "Git 586\n",
      "SQL 501\n",
      "PostgreSQL 499\n",
      "Django Framework 467\n",
      "Linux 463\n",
      "Flask 177\n",
      "Docker 172\n",
      "JavaScript 149\n",
      "Английский язык 141\n",
      "MySQL 128\n",
      "ООП 120\n",
      "MongoDB 113\n",
      "Redis 107\n",
      "REST 70\n",
      "RabbitMQ 68\n",
      "Django 62\n",
      "CSS 56\n",
      "HTML 56\n",
      "Atlassian Jira 52\n",
      "C++ 50\n",
      "API 49\n",
      "MS SQL 43\n",
      "Java 43\n",
      "Базы данных 41\n",
      "Работа в команде 39\n",
      "AWS 36\n",
      "Pytest 35\n",
      "Celery 35\n",
      "aiohttp 33\n"
     ]
    }
   ],
   "source": [
    "# считаем, сколько раз каждый навык упоминался суммарно во всех объявлениях\n",
    "skills_dict = {}\n",
    "for skills in df['skills']:\n",
    "    if pd.isna(skills):\n",
    "        continue\n",
    "    for skill in skills.split(';'):\n",
    "        if skill.strip() in skills_dict:\n",
    "            skills_dict[skill.strip()] += 1\n",
    "        else:\n",
    "            skills_dict[skill.strip()] = 1\n",
    "            \n",
    "# выбираем топ-30            \n",
    "skills_dict.pop('', None)            \n",
    "top_skills = sorted(skills_dict.items(), key=lambda x: x[1], reverse=True)[:30]\n",
    "\n",
    "for skill, count in top_skills:\n",
    "    print(skill, count)"
   ]
  },
  {
   "cell_type": "markdown",
   "metadata": {},
   "source": [
    "#### 4. Cоставьте топ городов с наибольшей средней заработной платой по вакансиям тестировщика (QA)."
   ]
  },
  {
   "cell_type": "markdown",
   "metadata": {},
   "source": [
    "Для некоторых вакансий вместо зарплатной вилки указана только нижняя/верхняя граница зарплаты.\n",
    "Будем считать, что если указана только верхняя или нижняя граница - то з/п равна этому значению, если обе - то их среднему\n",
    "(это может быть не совсем правильным подходом, т.к. в таких случаях конкретному работнику зп оглашается после собеседования, и\n",
    "нужна дополнительная информация о том, как эту разницу в данном случае корректно учесть). Создадим столбик salary, который потребуется для расчета среднего"
   ]
  },
  {
   "cell_type": "code",
   "execution_count": 191,
   "metadata": {},
   "outputs": [
    {
     "data": {
      "text/plain": [
       "area\n",
       "Тамбов             200000.000000\n",
       "Москва             190555.555556\n",
       "Санкт-Петербург    180555.555556\n",
       "Казань              90000.000000\n",
       "Новосибирск                  NaN\n",
       "Самара                       NaN\n",
       "Саратов                      NaN\n",
       "Name: salary, dtype: float64"
      ]
     },
     "execution_count": 191,
     "metadata": {},
     "output_type": "execute_result"
    }
   ],
   "source": [
    "df['salary'] = df[['salary_from', 'salary_to']].mean(axis=1, skipna=True)\n",
    "\n",
    "qa = df[df['vacancy'].str.contains('QA')]\n",
    "sal_mean_by_area = qa.groupby('area')['salary'].mean().sort_values(ascending=False)\n",
    "sal_mean_by_area"
   ]
  },
  {
   "cell_type": "markdown",
   "metadata": {},
   "source": [
    "В части городов для всех нужных вакансий з/п не указана, поэтому рассчитать среднюю не представляется возможным"
   ]
  },
  {
   "cell_type": "markdown",
   "metadata": {},
   "source": [
    "#### 5. Покажите динамику количества вакансии по месяцам даты создания."
   ]
  },
  {
   "cell_type": "code",
   "execution_count": 153,
   "metadata": {},
   "outputs": [
    {
     "data": {
      "image/png": "[encoded data removed]",
      "text/plain": [
       "<Figure size 576x432 with 1 Axes>"
      ]
     },
     "metadata": {
      "needs_background": "light"
     },
     "output_type": "display_data"
    }
   ],
   "source": [
    "df['created'] = pd.to_datetime(df['created'])  \n",
    "\n",
    "# считаем кол-во вакансий по месяцам (в датасете всего два месяца)\n",
    "df_m = df.groupby(pd.Grouper(key='created', freq='M')).size().reset_index(name='count') \n",
    "df_m['created'] = df_m['created'].apply(lambda x: datetime.strftime(x, '%b %Y'))\n",
    "\n",
    "# строим график\n",
    "plt.figure(figsize=(8, 6)) \n",
    "plt.bar(df_m['created'], df_m['count'])\n",
    "plt.xlabel('Month')\n",
    "plt.ylabel('Number of vacancies')\n",
    "plt.show()"
   ]
  },
  {
   "cell_type": "code",
   "execution_count": 154,
   "metadata": {},
   "outputs": [
    {
     "data": {
      "image/png": "[encoded data removed]",
      "text/plain": [
       "<Figure size 1152x432 with 1 Axes>"
      ]
     },
     "metadata": {
      "needs_background": "light"
     },
     "output_type": "display_data"
    }
   ],
   "source": [
    "# в данных указаны вакансии всего за 2 месяца, поэтому, наверное, интереснее посмотреть на динамику по дням\n",
    "df_d = df.groupby(pd.Grouper(key='created', freq='D')).size().reset_index(name='count') \n",
    "\n",
    "plt.figure(figsize=(16, 6)) \n",
    "plt.plot(df_d['created'], df_d['count'])  # строим график\n",
    "plt.xlabel('Date')\n",
    "plt.ylabel('Number of vacancies')\n",
    "plt.show()"
   ]
  },
  {
   "cell_type": "markdown",
   "metadata": {},
   "source": [
    "#### 6. Напишите функцию для поиска вакансий по переданным в нее значениям заработной платы, наличия тестового задания, наличия заданного текста в наименовании вакансии, наличия заданного навыка. В результате выведите количество найденных вакансий, среднюю заработную плату по найденным вакансиям и список ссылок найденных вакансий. "
   ]
  },
  {
   "cell_type": "code",
   "execution_count": null,
   "metadata": {},
   "outputs": [],
   "source": [
    "def find_vacancies(data, salary_min=None, has_test=False, keyword=None, skill=None):\n",
    "    # Фильтруем вакансии по заданным параметрам\n",
    "    if salary_min is not None:\n",
    "        data = data[data['salary_from'] >= salary_min]\n",
    "        #предполагаем, что пользователь укаазывает минимальную з/п, которую хочет гарантированно получать\n",
    "        #в некоторых вакансиях не указана нижняя граница, поэтому они не будут появлятся при заполнении этого поля\n",
    "    if has_test:\n",
    "        data = data[data['has_test'] == True]\n",
    "    if keyword is not None:\n",
    "        data = data[data['vacancy'].str.contains(keyword, case=False)]\n",
    "    if skill is not None:\n",
    "        data = data[data['skills'].str.contains(skill, case=False)]\n",
    "    \n",
    "    # Выводим результаты поиска\n",
    "    count = len(data)\n",
    "    avg_salary = data['salary'].mean()\n",
    "    links = data['url'].tolist()\n",
    "    \n",
    "    print('Found', count, 'vacancies')\n",
    "    print('Average salary:', avg_salary)\n",
    "    print('Links:')\n",
    "    for link in links:\n",
    "        print(link)"
   ]
  },
  {
   "cell_type": "code",
   "execution_count": 192,
   "metadata": {},
   "outputs": [
    {
     "name": "stdout",
     "output_type": "stream",
     "text": [
      "Found 2 vacancies\n",
      "Average salary: 212500.0\n",
      "Links:\n",
      "https://hh.ru/applicant/vacancy_response?vacancyId=46660773\n",
      "https://hh.ru/applicant/vacancy_response?vacancyId=46085687\n"
     ]
    }
   ],
   "source": [
    "#пример        \n",
    "find_vacancies(df, salary_min=50000, has_test=True, keyword='developer', skill='Git')"
   ]
  }
 ],
 "metadata": {
  "kernelspec": {
   "display_name": "Python 3",
   "language": "python",
   "name": "python3"
  },
  "language_info": {
   "codemirror_mode": {
    "name": "ipython",
    "version": 3
   },
   "file_extension": ".py",
   "mimetype": "text/x-python",
   "name": "python",
   "nbconvert_exporter": "python",
   "pygments_lexer": "ipython3",
   "version": "3.8.6"
  }
 },
 "nbformat": 4,
 "nbformat_minor": 4
}
